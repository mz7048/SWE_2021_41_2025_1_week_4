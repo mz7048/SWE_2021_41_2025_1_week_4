{
  "nbformat": 4,
  "nbformat_minor": 0,
  "metadata": {
    "colab": {
      "provenance": [],
      "gpuType": "T4"
    },
    "kernelspec": {
      "name": "python3",
      "display_name": "Python 3"
    },
    "language_info": {
      "name": "python"
    },
    "accelerator": "GPU"
  },
  "cells": [
    {
      "cell_type": "code",
      "execution_count": 6,
      "metadata": {
        "colab": {
          "base_uri": "https://localhost:8080/"
        },
        "id": "en0kW-C2sLNq",
        "outputId": "9968761e-834f-4344-82e1-6a486c182c96"
      },
      "outputs": [
        {
          "output_type": "stream",
          "name": "stdout",
          "text": [
            "19\n",
            "True\n"
          ]
        }
      ],
      "source": [
        "s = set()\n",
        "\n",
        "def isHappy(n):\n",
        "  sum = 0\n",
        "  for i in range(0,len(str(n))):\n",
        "    sum += (n % 10) ** 2\n",
        "    n //= 10\n",
        "  if(sum in s):\n",
        "    return False\n",
        "  else:\n",
        "    s.add(sum)\n",
        "  if(sum == 1):\n",
        "    return True\n",
        "  else:\n",
        "    return isHappy(sum)\n",
        "\n",
        "num = int(input())\n",
        "print(isHappy(num))\n",
        ""
      ]
    }
  ]
}