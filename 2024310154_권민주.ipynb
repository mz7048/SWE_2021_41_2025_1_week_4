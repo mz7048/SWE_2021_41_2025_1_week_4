{
  "nbformat": 4,
  "nbformat_minor": 0,
  "metadata": {
    "colab": {
      "provenance": [],
      "gpuType": "T4"
    },
    "kernelspec": {
      "name": "python3",
      "display_name": "Python 3"
    },
    "language_info": {
      "name": "python"
    },
    "accelerator": "GPU"
  },
  "cells": [
    {
      "cell_type": "code",
      "execution_count": 8,
      "metadata": {
        "colab": {
          "base_uri": "https://localhost:8080/"
        },
        "id": "en0kW-C2sLNq",
        "outputId": "a4f5cd89-70af-4c42-b562-6abe12134f88"
      },
      "outputs": [
        {
          "output_type": "stream",
          "name": "stdout",
          "text": [
            "16\n",
            "False\n"
          ]
        }
      ],
      "source": [
        "def isHappy(n):\n",
        "    seen = set()\n",
        "\n",
        "    while n != 1:\n",
        "        total = 0\n",
        "        while n > 0:\n",
        "            digit = n % 10\n",
        "            total += digit * digit\n",
        "            n //= 10\n",
        "        if total in seen:\n",
        "            return False\n",
        "        seen.add(total)\n",
        "        n = total\n",
        "\n",
        "    return True\n",
        "\n",
        "num = int(input())\n",
        "print(isHappy(num))\n",
        ""
      ]
    }
  ]
}